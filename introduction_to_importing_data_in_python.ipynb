{
 "cells": [
  {
   "cell_type": "markdown",
   "id": "a8e4cd59",
   "metadata": {},
   "source": [
    "# INTRODUCTION TO IMPORTING DATA IN PYTHON  "
   ]
  },
  {
   "cell_type": "markdown",
   "id": "97d7e56f",
   "metadata": {},
   "source": [
    "# 1-) Introduction to Flat (Basit, Düz) Files"
   ]
  },
  {
   "cell_type": "markdown",
   "id": "be640a8f",
   "metadata": {},
   "source": [
    "Python'ın temel, gömülü olarak bulundurduğu flat (düz) metin dosyalarını (.txt) açmak için kullandığımız komutlar:"
   ]
  },
  {
   "cell_type": "markdown",
   "id": "0721938a",
   "metadata": {},
   "source": [
    "+ open(filename, mode) --> Bir dosyayı açar ve onu dosya nesnesi olarak döndürür.\n",
    "  \n",
    "  Parametreleri:\n",
    "  \n",
    "   mode --> \"r\", \"a\", \"w\", \"x\", \"t\", \"b\"\n",
    "  \n",
    "      \"r\" (read) -> Okumak için bir dosya açar\n",
    "  \n",
    "      \"a\" (append) -> Eklemek için bir dosya açar\n",
    "  \n",
    "      \"w\" (write) -> Yazmak için bir dosya açar\n",
    "  \n",
    "      \"x\" (creat) -> Belirtilen dosyayı oluşturur\n",
    "  \n",
    "      \"t\" (text) -> Metin modu\n",
    "  \n",
    "      \"b\" (binary) -> İkili mod\n",
    "  \n",
    "   filename --> String"
   ]
  },
  {
   "cell_type": "markdown",
   "id": "dc5bb191",
   "metadata": {},
   "source": [
    "+ read() --> Dosyadan, belirtilen bayt sayısını döndürür. Varsayılan, -1'dir. Bu da tüm dosya demektir."
   ]
  },
  {
   "cell_type": "markdown",
   "id": "95890d78",
   "metadata": {},
   "source": [
    "+ close() --> Açık bir dosyayı kapatır."
   ]
  },
  {
   "cell_type": "markdown",
   "id": "95523bcf",
   "metadata": {},
   "source": [
    "+ xx.closed --> Dosyanın kapatılıp kapatılmadığını kontrol eder. Sonuç olarak True veya False döndürür "
   ]
  },
  {
   "cell_type": "code",
   "execution_count": 1,
   "id": "acd76c88",
   "metadata": {},
   "outputs": [
    {
     "name": "stdout",
     "output_type": "stream",
     "text": [
      "Kışın kazma kürek yaktıran zamanlarıydı. Memuruz, zaten meteliğe kurşun atıyoruz. E, haliyle kazma küreğimiz de yok. Doğal gazı erkenden kapatıp yorganlara sarılıyoruz. İşte böyle bir gecede kapıdan tıkırtı geldi. Kafamı yorgandan çıkarmamla sokmam bir oldu. Belki de dışarısı evden daha sıcaktı? Kim bilir? Tıkırtı salona doğru geçti. Muhakkak ki hırsız girmişti. Kafamı tekrar yorgandan çıkardım. “Ulan paramız olsaydı, soğukta yatar mıydık?” dedim. Birkaç dakika sonra kapı kapanma sesi geldi. Onun yerinde olsam sıcak evleri girerdim. Oh mis, sıcacık, ısınırdım da! Sabah kalkıp mutfakta çayımı demledim. Salona doğru çayımla seğirttim. Yahu, benim buralarda bir battaniyem olacaktı! Lan, ulan hırsız, ulan hırsız\n",
      "\n"
     ]
    }
   ],
   "source": [
    "\"Örnek\"\n",
    "\n",
    "file = \"ornek_1.txt\"\n",
    "filename = file\n",
    "data_1 = open(filename, mode = \"r\")\n",
    "text = data_1.read()\n",
    "data_1.close()\n",
    "print(text)"
   ]
  },
  {
   "cell_type": "code",
   "execution_count": 2,
   "id": "2a8bca52",
   "metadata": {},
   "outputs": [
    {
     "name": "stdout",
     "output_type": "stream",
     "text": [
      "A\tB\tC\t\t\t\t\t\t\n",
      "z\t76\t1.3\t\t\t\t\t\t\n",
      "x\t32\t1.7\t\t\t\t\t\t\n",
      "c\t45\t-0.4\t\t\t\t\t\t\n",
      "v\t65\t0.0005\t\t\t\t\t\t\n",
      "b\t64\t23.7\t\t\t\t\t\t\n",
      "n\t63\t3.32\t\t\t\t\t\t\n",
      "m\t72\t0.27072001\t\t\t\t\t\t\n",
      "\n"
     ]
    }
   ],
   "source": [
    "\"Örnek\"\n",
    "\n",
    "file = \"ornek_2.txt\"\n",
    "filename = file \n",
    "data_2 = open(filename, mode = \"r\")\n",
    "text_1 = data_2.read()\n",
    "data_2.close()\n",
    "print(text_1)"
   ]
  },
  {
   "cell_type": "markdown",
   "id": "b445dd34",
   "metadata": {},
   "source": [
    "### --> Importing flat files using NumPy (NumPy kullanarak düz dosyaları içe aktarma)"
   ]
  },
  {
   "cell_type": "code",
   "execution_count": 3,
   "id": "6b129b52",
   "metadata": {},
   "outputs": [],
   "source": [
    "import numpy as np"
   ]
  },
  {
   "cell_type": "markdown",
   "id": "609407dc",
   "metadata": {},
   "source": [
    "Flat (düz, basit) metin dosyalarını (.txt) NumPy ile içe aktarmak için kullandığımız komutlar:"
   ]
  },
  {
   "cell_type": "markdown",
   "id": "4a5f4a0e",
   "metadata": {},
   "source": [
    "+ np.loadtxt() --> Metin dosyasından veri yükler. Basit durumlarda yani her verinin, veri tipinin aynı olduğu durumlarda kullanılabilir.\n",
    "\n",
    "  Parametreleri:\n",
    "  \n",
    "      fname -> Dosya adı girilir.\n",
    "  \n",
    "      dtype -> Aktarılacak verilerin hangi türde aktarılacağı girilir.\n",
    "  \n",
    "      delimate -> Değerleri ayırmak için kullanılan dize. Varsayılanı boşluktur.\n",
    "  \n",
    "      skiprows -> Kaç satırın atlanılarak içe aktarılacağı girilir.\n",
    "  \n",
    "      usecols -> Hangi sütunların aktarılacağı seçilir."
   ]
  },
  {
   "cell_type": "markdown",
   "id": "5ebb208e",
   "metadata": {},
   "source": [
    "+ np.genfromtxt() --> Verilerin, veri tipleri birbirleriyle aynı olmadığı zamanlarda kullanılabilir. Bir sütundaki veriler string iken diğer sütundaki veriler float olması gibi. dtype parametresi, None olarak ayarlandığında bütün verileri olduğu gibi içe aktaracaktır\n",
    "\n",
    "  Parametreleri:\n",
    "  \n",
    "      fname -> Dosya adı girilir. \n",
    "  \n",
    "      delimate -> Değerleri ayırmak için kullanılan dize. Varsayılanı boşluktur.\n",
    "  \n",
    "      names -> Başlık olup olmadığı belirtilir. True veya False olarak boolean değerler alır.\n",
    "  \n",
    "      dtype -> Aktarılacak verilerin hangi türde aktarılacağı girilir."
   ]
  },
  {
   "cell_type": "markdown",
   "id": "816ba1ee",
   "metadata": {},
   "source": [
    "+ np.recfromcsv() --> np.genfromtxt() ile aynıdır. Sadece dtype, varsayılan olarak None'dır"
   ]
  },
  {
   "cell_type": "code",
   "execution_count": 4,
   "id": "9beca787",
   "metadata": {},
   "outputs": [
    {
     "data": {
      "text/plain": [
       "'\\nÖrnek:\\n\\nimport numpy as np\\n\\nfilename = \"MNIST_header.txt\"\\ndata = np.loadtxt(filename, dilemate = \",\", skiprows = 1)\\nprint(data)\\n\\n'"
      ]
     },
     "execution_count": 4,
     "metadata": {},
     "output_type": "execute_result"
    }
   ],
   "source": [
    "\"\"\"\n",
    "Örnek:\n",
    "\n",
    "import numpy as np\n",
    "\n",
    "filename = \"MNIST_header.txt\"\n",
    "data = np.loadtxt(filename, dilemate = \",\", skiprows = 1)\n",
    "print(data)\n",
    "\n",
    "\"\"\""
   ]
  },
  {
   "cell_type": "code",
   "execution_count": 5,
   "id": "1396d990",
   "metadata": {},
   "outputs": [
    {
     "data": {
      "text/plain": [
       "'\\nÖrnek: \\n\\nimport numpy as np \\n\\nfile = \"titanic.csv\"\\nfilename = file\\ndata = np.genfromtxt(filename, delimiter = \",\", names = True, dtype = None)\\nprint(data)\\n\\n'"
      ]
     },
     "execution_count": 5,
     "metadata": {},
     "output_type": "execute_result"
    }
   ],
   "source": [
    "\"\"\"\n",
    "Örnek: \n",
    "\n",
    "import numpy as np \n",
    "\n",
    "file = \"titanic.csv\"\n",
    "filename = file\n",
    "data = np.genfromtxt(filename, delimiter = \",\", names = True, dtype = None)\n",
    "print(data)\n",
    "\n",
    "\"\"\""
   ]
  },
  {
   "cell_type": "markdown",
   "id": "bae5d00d",
   "metadata": {},
   "source": [
    "### --> Importing flat files using Pandas (Pandas kullanarak düz dosyaları içe aktarma)"
   ]
  },
  {
   "cell_type": "code",
   "execution_count": 6,
   "id": "03f4991e",
   "metadata": {},
   "outputs": [],
   "source": [
    "import pandas as pd "
   ]
  },
  {
   "cell_type": "markdown",
   "id": "213a5f8d",
   "metadata": {},
   "source": [
    "Flat (düz) dosyaları içe aktarırken kullandığımız komutlar:"
   ]
  },
  {
   "cell_type": "markdown",
   "id": "d8d1ba13",
   "metadata": {},
   "source": [
    "+ pd.read_csv() --> csv dosyalarını DataFrame olarak içe aktarmayı sağlar. \n",
    "  \n",
    "  Parametreleri:\n",
    "  \n",
    "  sep -> Değerler ayırmak için kullanılacak sınırlayıcı \\t, \\r gibi.\n",
    "  \n",
    "  nrows -> Okunacak satır sayısı\n",
    "  \n",
    "  chunksize -> Saniyede okunan satır sayısını ifade eder.\n",
    "  \n",
    "  "
   ]
  },
  {
   "cell_type": "markdown",
   "id": "9e5a8533",
   "metadata": {},
   "source": [
    "> Matrixlerin satır ve sütunları, DataFramelerin gözlemleri ve değişkenleri vardır."
   ]
  },
  {
   "cell_type": "code",
   "execution_count": 7,
   "id": "5996f478",
   "metadata": {},
   "outputs": [
    {
     "name": "stdout",
     "output_type": "stream",
     "text": [
      "   A   B         C\n",
      "0  z  76   1.30000\n",
      "1  x  32   1.70000\n",
      "2  c  45  -0.40000\n",
      "3  v  65   0.00050\n",
      "4  b  64  23.70000\n",
      "5  n  63   3.32000\n",
      "6  m  72   0.27072\n"
     ]
    }
   ],
   "source": [
    "\"Örnek\"\n",
    "\n",
    "data = pd.read_csv(\"ornek_2.csv\", usecols = [0,1,2])\n",
    "print(data)"
   ]
  },
  {
   "cell_type": "code",
   "execution_count": 8,
   "id": "dc1c64f3",
   "metadata": {},
   "outputs": [
    {
     "data": {
      "text/plain": [
       "'\\nÖrnek:\\n\\nimport pandas as pd \\n\\nfilename= \"winequality_red.csv\"\\ndata = pd.read_csv(filename)\\nprint(data)\\n\\n'"
      ]
     },
     "execution_count": 8,
     "metadata": {},
     "output_type": "execute_result"
    }
   ],
   "source": [
    "\"\"\"\n",
    "Örnek:\n",
    "\n",
    "import pandas as pd \n",
    "\n",
    "filename= \"winequality_red.csv\"\n",
    "data = pd.read_csv(filename)\n",
    "print(data)\n",
    "\n",
    "\"\"\""
   ]
  },
  {
   "cell_type": "markdown",
   "id": "cc37c01c",
   "metadata": {},
   "source": [
    "# 2-) Importing Data From Other File Types"
   ]
  },
  {
   "cell_type": "markdown",
   "id": "adcca53f",
   "metadata": {},
   "source": [
    "İçe aktarma yapacağımız diğer dosya tipleri: "
   ]
  },
  {
   "cell_type": "markdown",
   "id": "35462634",
   "metadata": {},
   "source": [
    "+ Excel spreadsheets -> Spreadsheetler, satırlar ve sütunlar halinde düzenlenmiş verileri yakalayabilen, görüntüleyebilen ve değiştirebilen bir bilgisayar programıdır . Spreadsheetler, kişisel bilgisayarlarda bulunan en popüler araçlardan biridir. Bir spreadsheet genellikle sayısal verileri ve kısa metin dizilerini tutmak için tasarlanmıştır. \n",
    "\n",
    "  MATLAB files -> MATLAB bir programlama dili olmasının yanı sıra etkileşimli bir hesaplama ortamıdır. MATLAB dilinde kod içeren dosyalara M dosyaları denir . M dosyaları, MATLAB dilinde yazılmış sıradan ASCII metin verileridir. Bu tür dosyalara \"M-dosyaları\" adı verilir, çünkü \".ms\" dosya adı uzantısına sahip olmaları gerekir.\n",
    "  \n",
    "  SAS files -> SAS dosya uzantısına sahip bir dosya, İstatistiksel Analiz Yazılımı (SAS) dosyasıdır . SAS dosyası, bir veri kümesine karşı çalıştırılabilecek bir dizi SAS işlevi içeren bir ASCII (metin) dosyasıdır veya bir SAS dosyası gerçek veri kümesini içerebilir.\n",
    "  \n",
    "  Stata files -> Stata, verileri diğer programlar tarafından okunamayan özel bir biçimde saklar . Stata veri dosyalarının uzantısı .dta'dır. Stata, verileri birkaç başka formatta okuyabilir. Standart biçim, uzantılı virgülle ayrılmış değerler dosyasıdır. csv (örneğin Excel tarafından oluşturulabilir). \n",
    "  \n",
    "  HDF5 files -> HDF5 dosyası, Hiyerarşik Veri Biçimi 5 anlamına gelir . Büyük miktarda veri depolamak için kullanışlı olan açık kaynaklı bir dosyadır. Adından da anlaşılacağı gibi, verileri tek bir dosya içinde hiyerarşik bir yapıda saklar."
   ]
  },
  {
   "cell_type": "markdown",
   "id": "2afa9b13",
   "metadata": {},
   "source": [
    "### --> Pickle Module "
   ]
  },
  {
   "cell_type": "markdown",
   "id": "4fb43986",
   "metadata": {},
   "source": [
    "Pickle Modülü: \n",
    "\n",
    "+ Python pickle modülü, bir Python nesne yapısının seri hale getirilmesi ve seri durumundan çıkarılması için kullanılır. Python'daki herhangi bir nesne, diske kaydedilebilmesi için seçilebilir. Pickle'ın yaptığı şey, nesneyi dosyaya yazmadan önce \"serileştirmesi\"dir. Pickling, bir python nesnesini (list, dict, vb.) karakter akışına dönüştürmenin bir yoludur. Buradaki fikir, bu karakter akışının, nesneyi başka bir python betiğinde yeniden oluşturmak için gerekli tüm bilgileri içermesidir.\n"
   ]
  },
  {
   "cell_type": "code",
   "execution_count": 9,
   "id": "55683516",
   "metadata": {},
   "outputs": [
    {
     "data": {
      "text/plain": [
       "'\\nÖrnek:\\n\\nimport pickle \\nwith open(\"pickled_fruit.pkl\", \"rb\") as file:\\n    data = pickle.load(file)\\n\\n'"
      ]
     },
     "execution_count": 9,
     "metadata": {},
     "output_type": "execute_result"
    }
   ],
   "source": [
    "\"\"\"\n",
    "Örnek:\n",
    "\n",
    "import pickle \n",
    "with open(\"pickled_fruit.pkl\", \"rb\") as file:\n",
    "    data = pickle.load(file)\n",
    "\n",
    "\"\"\""
   ]
  },
  {
   "cell_type": "markdown",
   "id": "a046686d",
   "metadata": {},
   "source": [
    "### --> Pandas ile Excel Spreadsheetleri İçe Aktarmak "
   ]
  },
  {
   "cell_type": "markdown",
   "id": "40c9f2c1",
   "metadata": {},
   "source": [
    "Excel Spreadsheet'leri Pandas ile içe aktarmak için kullanacağımız komutlar:"
   ]
  },
  {
   "cell_type": "markdown",
   "id": "270dd191",
   "metadata": {},
   "source": [
    "+ pd.ExcelFile() --> pd.read_excel() ile aynı işlevi görür. Excel dosyasını bir DataFrame olarak içe aktarır."
   ]
  },
  {
   "cell_type": "markdown",
   "id": "4762b31a",
   "metadata": {},
   "source": [
    "+ xxx.sheet_names --> Bir fonksiyondur. Excel sayfalardan oluşur, sheet_names de bu sayfa adlarını görmemize yardımcı olur. "
   ]
  },
  {
   "cell_type": "markdown",
   "id": "0856d61c",
   "metadata": {},
   "source": [
    "+ xxx.parse() --> sheet_names ile başlıklarını öğrendiğimiz excel sayfalarını içe aktarmak için kullanılır."
   ]
  },
  {
   "cell_type": "code",
   "execution_count": 10,
   "id": "bb7e5502",
   "metadata": {},
   "outputs": [
    {
     "name": "stdout",
     "output_type": "stream",
     "text": [
      "['Sheet1']\n",
      "   A   B         C\n",
      "0  z  76   1.30000\n",
      "1  x  32   1.70000\n",
      "2  c  45  -0.40000\n",
      "3  v  65   0.00050\n",
      "4  b  64  23.70000\n",
      "5  n  63   3.32000\n",
      "6  m  72   0.27072\n"
     ]
    }
   ],
   "source": [
    "\"Örnek\"\n",
    "\n",
    "file = \"ornek_2.xlsx\"\n",
    "data_2 = pd.ExcelFile(file)\n",
    "print(data_2.sheet_names)\n",
    "df1 = data_2.parse(\"Sheet1\")\n",
    "print(df1)"
   ]
  },
  {
   "cell_type": "code",
   "execution_count": 11,
   "id": "4c86cf58",
   "metadata": {},
   "outputs": [
    {
     "name": "stdout",
     "output_type": "stream",
     "text": [
      "['2002', '2004']\n",
      "  War, age-adjusted mortality due to       2002\n",
      "0                        Afghanistan  36.083990\n",
      "1                            Albania   0.128908\n",
      "2                            Algeria  18.314120\n",
      "3                            Andorra   0.000000\n",
      "4                             Angola  18.964560\n",
      "  War(country)      2004\n",
      "0  Afghanistan  9.451028\n",
      "1      Albania  0.130354\n",
      "2      Algeria  3.407277\n",
      "3      Andorra  0.000000\n",
      "4       Angola  2.597931\n"
     ]
    }
   ],
   "source": [
    "\"Örnek\"\n",
    "\n",
    "file = \"battledeath.xlsx\"\n",
    "new_data = pd.ExcelFile(file)\n",
    "print(new_data.sheet_names)\n",
    "df2 = new_data.parse(\"2002\")\n",
    "df3 = new_data.parse(1) # 1 sayısı, 2004 başlıklı sayfanın indexini belirtiyor.\n",
    "print(df2.head())\n",
    "print(df3.head())"
   ]
  },
  {
   "cell_type": "markdown",
   "id": "98ca44db",
   "metadata": {},
   "source": [
    "# 3-) Introduction To Relational Databases (İlişkisel Veri Tabanı)"
   ]
  },
  {
   "cell_type": "markdown",
   "id": "e1604ef7",
   "metadata": {},
   "source": [
    "Relational Database (ilişkisel veri tabanı); 1970 yılında E. F. Codd tarafından açıklanan, ilişkisel veri modeline (relational model of data) dayalı bir veritabanıdır.\n",
    "\n",
    "Relational model of data (ilişkisel veri modeli) --> İlişkisel bir veri modeli , öğe gruplarını ilişkiler halinde toplayan veri tablolarının kullanımını içerir . Bu modeller, her tablo kurulumunun bir birincil anahtar veya tanımlayıcı içereceği fikrine dayalı olarak çalışır. Diğer tablolar, \"ilişkisel\" veri bağlantıları ve sonuçları sağlamak için bu tanımlayıcıyı kullanır. "
   ]
  },
  {
   "cell_type": "markdown",
   "id": "5291bf4b",
   "metadata": {},
   "source": [
    "İlk olarak SQL dosyasını kullanarak veritabanı motoru oluştururuz. Bunu yapmak için de \"sqlalchemy\" sınıfından, \"create_engine\" modülünü kullanırız  "
   ]
  },
  {
   "cell_type": "markdown",
   "id": "89fde581",
   "metadata": {},
   "source": [
    "Bu modülde kullanacağımız komutlar:"
   ]
  },
  {
   "cell_type": "markdown",
   "id": "85dfac8b",
   "metadata": {},
   "source": [
    "+ create_engine() --> Veritabanı motoru oluşturmamızı sağlar. \n",
    "\n",
    "  Kullanılışı:\n",
    "  \n",
    "      create_engine(bağlanılan veri tabanının türü :/// veri tabanının adı)"
   ]
  },
  {
   "cell_type": "markdown",
   "id": "67ecd21f",
   "metadata": {},
   "source": [
    "+ xxx.table_names() --> Veri tabanındaki tabloların isimlerini döndürür"
   ]
  },
  {
   "cell_type": "code",
   "execution_count": 12,
   "id": "232e07ad",
   "metadata": {},
   "outputs": [],
   "source": [
    "from sqlalchemy import create_engine"
   ]
  },
  {
   "cell_type": "code",
   "execution_count": 13,
   "id": "49883d22",
   "metadata": {},
   "outputs": [
    {
     "name": "stderr",
     "output_type": "stream",
     "text": [
      "C:\\Users\\ozero\\AppData\\Local\\Temp/ipykernel_12916/1131916333.py:2: SADeprecationWarning: The Engine.table_names() method is deprecated and will be removed in a future release.  Please refer to Inspector.get_table_names(). (deprecated since: 1.4)\n",
      "  table_names = engine.table_names()\n"
     ]
    }
   ],
   "source": [
    "engine = create_engine(\"sqlite:///Chinook.sqlite\")\n",
    "table_names = engine.table_names()"
   ]
  },
  {
   "cell_type": "markdown",
   "id": "bb879956",
   "metadata": {},
   "source": [
    "İlişkisel veri tabanı motoru oluşturduktan sonra, sıra sorgulamaya gelir. Sorgulama demek aslında veri tabanından veriyi almak demektir. Bütün süreç şu sırada gerçekleşir: "
   ]
  },
  {
   "cell_type": "markdown",
   "id": "b1e27c8b",
   "metadata": {},
   "source": [
    "+ 1) Gerekli paket ve işlevleri içe aktaracağız. (Yukarıda yaptık)"
   ]
  },
  {
   "cell_type": "markdown",
   "id": "cd019f1e",
   "metadata": {},
   "source": [
    "+ 2) Motoru oluşturacağız. (Yukarıda yaptık)"
   ]
  },
  {
   "cell_type": "markdown",
   "id": "d5f199eb",
   "metadata": {},
   "source": [
    "+ 3) Oluşturduğumuz motora bağlanacağız. Bunu, xxx.connect() komutu ile yapacağız.\n",
    "\n",
    "      xxx.connect() komutu:\n",
    "     \n",
    "      -> Oluşturulan veri tabanı motoruna bağlanmayı sağlar."
   ]
  },
  {
   "cell_type": "markdown",
   "id": "c2ca5617",
   "metadata": {},
   "source": [
    "+ 4) Veritabanını sorgulayacağız. Bunu, xxx.execute() ile yapacağız.\n",
    "     \n",
    "      xxx.execute() komutu:\n",
    "     \n",
    "      -> SQLAlchemy'ye ait bir sonuç nesnesi oluşturur. Bu komutun içerisine, SQL komutlar girerek sorgu yapılabilir. Mesela:\n",
    "     \n",
    "      xxx.execute(\"SELECET * FROM Orders\")"
   ]
  },
  {
   "cell_type": "markdown",
   "id": "14ed8062",
   "metadata": {},
   "source": [
    "+ 5) Sorgunun sonuçlarını DataFrame olarak kaydedeceğiz. df = DataFrame(xx.fetchall()) şeklinde yapacağız.\n",
    "\n",
    "      xx.fetchall() komutu: \n",
    "     \n",
    "      -> Sql dosyasındaki, tablodaki tüm satırları getirir."
   ]
  },
  {
   "cell_type": "markdown",
   "id": "94c227df",
   "metadata": {},
   "source": [
    "+ 6) Bağlantıyı kapatacağız.\n",
    "\n",
    "      xx.close() şeklinde."
   ]
  },
  {
   "cell_type": "code",
   "execution_count": 14,
   "id": "31528e8b",
   "metadata": {},
   "outputs": [
    {
     "name": "stdout",
     "output_type": "stream",
     "text": [
      "   AlbumId                                  Title  ArtistId\n",
      "0        1  For Those About To Rock We Salute You         1\n",
      "1        2                      Balls to the Wall         2\n",
      "2        3                      Restless and Wild         2\n",
      "3        4                      Let There Be Rock         1\n",
      "4        5                               Big Ones         3\n"
     ]
    }
   ],
   "source": [
    "\"Örnek\"\n",
    "\n",
    "from sqlalchemy import create_engine\n",
    "import pandas as pd\n",
    "\n",
    "engine = create_engine(\"sqlite:///Chinook.sqlite\")\n",
    "con = engine.connect()\n",
    "rs = con.execute(\"SELECT * FROM Album\")\n",
    "df = pd.DataFrame(rs.fetchall())\n",
    "df.columns = rs.keys()\n",
    "con.close()\n",
    "print(df.head())"
   ]
  },
  {
   "cell_type": "code",
   "execution_count": 18,
   "id": "fb897d43",
   "metadata": {},
   "outputs": [
    {
     "name": "stdout",
     "output_type": "stream",
     "text": [
      "  LastName                Title\n",
      "0    Adams      General Manager\n",
      "1  Edwards        Sales Manager\n",
      "2  Peacock  Sales Support Agent\n"
     ]
    }
   ],
   "source": [
    "\"Veritabanı motorunun with ve as ile oluşturulup con değişkenine atanmış hali\"\n",
    "\"Bu, işlemlerin sonunda bağlantıyı kapatmamıza gerek kalmasını engeller.\"\n",
    "\n",
    "with engine.connect() as con:\n",
    "    rs = con.execute(\"SELECT LastName, Title FROM Employee\")\n",
    "    df = pd.DataFrame(rs.fetchmany(3))\n",
    "    df.columns = rs.keys()\n",
    "\n",
    "print(df.head())"
   ]
  },
  {
   "cell_type": "code",
   "execution_count": 16,
   "id": "acda934c",
   "metadata": {},
   "outputs": [
    {
     "name": "stdout",
     "output_type": "stream",
     "text": [
      "   EmployeeId  LastName FirstName       Title  ReportsTo            BirthDate  \\\n",
      "0           6  Mitchell   Michael  IT Manager          1  1973-07-01 00:00:00   \n",
      "1           7      King    Robert    IT Staff          6  1970-05-29 00:00:00   \n",
      "2           8  Callahan     Laura    IT Staff          6  1968-01-09 00:00:00   \n",
      "\n",
      "              HireDate                      Address        City State Country  \\\n",
      "0  2003-10-17 00:00:00         5827 Bowness Road NW     Calgary    AB  Canada   \n",
      "1  2004-01-02 00:00:00  590 Columbia Boulevard West  Lethbridge    AB  Canada   \n",
      "2  2004-03-04 00:00:00                  923 7 ST NW  Lethbridge    AB  Canada   \n",
      "\n",
      "  PostalCode              Phone                Fax                    Email  \n",
      "0    T3B 0C5  +1 (403) 246-9887  +1 (403) 246-9899  michael@chinookcorp.com  \n",
      "1    T1K 5N8  +1 (403) 456-9986  +1 (403) 456-8485   robert@chinookcorp.com  \n",
      "2    T1H 1Y8  +1 (403) 467-3351  +1 (403) 467-8772    laura@chinookcorp.com  \n"
     ]
    }
   ],
   "source": [
    "\"Employee tablosundan, EmployeeId >= 6 olanları döndürüyoruz\"\n",
    "\n",
    "with engine.connect() as con:\n",
    "    rs = con.execute(\"SELECT * FROM Employee WHERE EmployeeId >= 6\")\n",
    "    df = pd.DataFrame(rs.fetchall())\n",
    "    df.columns = rs.keys()\n",
    "\n",
    "print(df.head())"
   ]
  },
  {
   "cell_type": "code",
   "execution_count": 17,
   "id": "8b75cbcb",
   "metadata": {},
   "outputs": [
    {
     "name": "stdout",
     "output_type": "stream",
     "text": [
      "   EmployeeId  LastName FirstName                Title  ReportsTo  \\\n",
      "0           4      Park  Margaret  Sales Support Agent        2.0   \n",
      "1           2   Edwards     Nancy        Sales Manager        1.0   \n",
      "2           1     Adams    Andrew      General Manager        NaN   \n",
      "3           5   Johnson     Steve  Sales Support Agent        2.0   \n",
      "4           8  Callahan     Laura             IT Staff        6.0   \n",
      "\n",
      "             BirthDate             HireDate              Address        City  \\\n",
      "0  1947-09-19 00:00:00  2003-05-03 00:00:00     683 10 Street SW     Calgary   \n",
      "1  1958-12-08 00:00:00  2002-05-01 00:00:00         825 8 Ave SW     Calgary   \n",
      "2  1962-02-18 00:00:00  2002-08-14 00:00:00  11120 Jasper Ave NW    Edmonton   \n",
      "3  1965-03-03 00:00:00  2003-10-17 00:00:00         7727B 41 Ave     Calgary   \n",
      "4  1968-01-09 00:00:00  2004-03-04 00:00:00          923 7 ST NW  Lethbridge   \n",
      "\n",
      "  State Country PostalCode              Phone                Fax  \\\n",
      "0    AB  Canada    T2P 5G3  +1 (403) 263-4423  +1 (403) 263-4289   \n",
      "1    AB  Canada    T2P 2T3  +1 (403) 262-3443  +1 (403) 262-3322   \n",
      "2    AB  Canada    T5K 2N1  +1 (780) 428-9482  +1 (780) 428-3457   \n",
      "3    AB  Canada    T3B 1Y7   1 (780) 836-9987   1 (780) 836-9543   \n",
      "4    AB  Canada    T1H 1Y8  +1 (403) 467-3351  +1 (403) 467-8772   \n",
      "\n",
      "                      Email  \n",
      "0  margaret@chinookcorp.com  \n",
      "1     nancy@chinookcorp.com  \n",
      "2    andrew@chinookcorp.com  \n",
      "3     steve@chinookcorp.com  \n",
      "4     laura@chinookcorp.com  \n"
     ]
    }
   ],
   "source": [
    "\"Employee tablosunu, doğum tarihleri artan sırada olacak şekilde döndürüyoruz\"\n",
    "\n",
    "with engine.connect() as con:\n",
    "    rs = con.execute(\"SELECT * FROM Employee ORDER BY BirthDate\")\n",
    "    df = pd.DataFrame(rs.fetchall())\n",
    "    df.columns = rs.keys()\n",
    "    \n",
    "print(df.head())"
   ]
  },
  {
   "cell_type": "markdown",
   "id": "8c0a0549",
   "metadata": {},
   "source": [
    "### --> Querying Relational Databases Directly With Pandas (Pandas ile direkt olarak ilişkisel veritabanını sorgulama)"
   ]
  },
  {
   "cell_type": "markdown",
   "id": "4434e729",
   "metadata": {},
   "source": [
    "Yukarıda gördüğümüz 3,4,5 ve 6. işlemleri sadece Pandas kullanarak yapmak mümkün. Bunu pd.read_sql_query komutu ile yapabiliriz."
   ]
  },
  {
   "cell_type": "markdown",
   "id": "9d3cdeb4",
   "metadata": {},
   "source": [
    "+ pd.read_sql_query --> SQL dosyasındaki tabloyu sorgulayıp DataFrame şeklinde kaydeder.\n",
    "\n",
    "  Parametreleri:\n",
    "  \n",
    "      sql -> Uygulanacak SQL komutu girilir.\n",
    "  \n",
    "      con -> Oluşuturlan veritabanı motoru girilir."
   ]
  },
  {
   "cell_type": "code",
   "execution_count": 4,
   "id": "c334590c",
   "metadata": {},
   "outputs": [
    {
     "name": "stdout",
     "output_type": "stream",
     "text": [
      "   AlbumId                                  Title  ArtistId\n",
      "0        1  For Those About To Rock We Salute You         1\n",
      "1        2                      Balls to the Wall         2\n",
      "2        3                      Restless and Wild         2\n",
      "3        4                      Let There Be Rock         1\n",
      "4        5                               Big Ones         3\n",
      "\t\n",
      "   EmployeeId  LastName FirstName       Title  ReportsTo            BirthDate  \\\n",
      "0           8  Callahan     Laura    IT Staff          6  1968-01-09 00:00:00   \n",
      "1           7      King    Robert    IT Staff          6  1970-05-29 00:00:00   \n",
      "2           6  Mitchell   Michael  IT Manager          1  1973-07-01 00:00:00   \n",
      "\n",
      "              HireDate                      Address        City State Country  \\\n",
      "0  2004-03-04 00:00:00                  923 7 ST NW  Lethbridge    AB  Canada   \n",
      "1  2004-01-02 00:00:00  590 Columbia Boulevard West  Lethbridge    AB  Canada   \n",
      "2  2003-10-17 00:00:00         5827 Bowness Road NW     Calgary    AB  Canada   \n",
      "\n",
      "  PostalCode              Phone                Fax                    Email  \n",
      "0    T1H 1Y8  +1 (403) 467-3351  +1 (403) 467-8772    laura@chinookcorp.com  \n",
      "1    T1K 5N8  +1 (403) 456-9986  +1 (403) 456-8485   robert@chinookcorp.com  \n",
      "2    T3B 0C5  +1 (403) 246-9887  +1 (403) 246-9899  michael@chinookcorp.com  \n"
     ]
    }
   ],
   "source": [
    "from sqlalchemy import create_engine\n",
    "import pandas as pd \n",
    "\n",
    "engine = create_engine(\"sqlite:///Chinook.sqlite\")\n",
    "df = pd.read_sql_query(\"SELECT * FROM Album\", engine)\n",
    "df_1 = pd.read_sql_query(\"SELECT * FROM Employee WHERE EmployeeId >= 6 ORDER BY Birthdate\", engine)\n",
    "print(df.head())\n",
    "print(\"\\t\")\n",
    "print(df_1.head())"
   ]
  }
 ],
 "metadata": {
  "kernelspec": {
   "display_name": "Python 3 (ipykernel)",
   "language": "python",
   "name": "python3"
  },
  "language_info": {
   "codemirror_mode": {
    "name": "ipython",
    "version": 3
   },
   "file_extension": ".py",
   "mimetype": "text/x-python",
   "name": "python",
   "nbconvert_exporter": "python",
   "pygments_lexer": "ipython3",
   "version": "3.9.7"
  }
 },
 "nbformat": 4,
 "nbformat_minor": 5
}
